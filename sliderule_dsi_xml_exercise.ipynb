{
 "cells": [
  {
   "cell_type": "markdown",
   "metadata": {},
   "source": [
    "# XML example and exercise\n",
    "****\n",
    "+ study examples of accessing nodes in XML tree structure  \n",
    "+ work on exercise to be completed and submitted\n",
    "****\n",
    "+ reference: https://docs.python.org/2.7/library/xml.etree.elementtree.html\n",
    "+ data source: http://www.dbis.informatik.uni-goettingen.de/Mondial\n",
    "****"
   ]
  },
  {
   "cell_type": "code",
   "execution_count": 167,
   "metadata": {
    "collapsed": true
   },
   "outputs": [],
   "source": [
    "from xml.etree import ElementTree as ET"
   ]
  },
  {
   "cell_type": "markdown",
   "metadata": {},
   "source": [
    "## XML example\n",
    "\n",
    "+ for details about tree traversal and iterators, see https://docs.python.org/2.7/library/xml.etree.elementtree.html"
   ]
  },
  {
   "cell_type": "code",
   "execution_count": 168,
   "metadata": {
    "collapsed": true
   },
   "outputs": [],
   "source": [
    "document_tree = ET.parse( './data/mondial_database_less.xml' )"
   ]
  },
  {
   "cell_type": "code",
   "execution_count": 169,
   "metadata": {
    "collapsed": false
   },
   "outputs": [
    {
     "name": "stdout",
     "output_type": "stream",
     "text": [
      "Albania\n",
      "Greece\n",
      "Macedonia\n",
      "Serbia\n",
      "Montenegro\n",
      "Kosovo\n",
      "Andorra\n"
     ]
    }
   ],
   "source": [
    "# print names of all countries\n",
    "#treeroot = document_tree.getroot\n",
    "#name = treeroot.find('name')\n",
    "\n",
    "for child in document_tree.getroot():\n",
    "    print(child.find('name').text)"
   ]
  },
  {
   "cell_type": "code",
   "execution_count": 170,
   "metadata": {
    "collapsed": false
   },
   "outputs": [
    {
     "name": "stdout",
     "output_type": "stream",
     "text": [
      "* Albania:\n",
      "Tirana, Shkodër, Durrës, Vlorë, Elbasan, Korçë\n",
      "* Greece:\n",
      "Komotini, Kavala, Athina, Peiraias, Peristeri, Acharnes, Patra, Kozani, Kerkyra, Ioannina, Thessaloniki, Iraklio, Chania, Ermoupoli, Rhodes, Tripoli, Lamia, Chalkida, Larissa, Volos, Mytilini, Karyes\n",
      "* Macedonia:\n",
      "Skopje, Kumanovo\n",
      "* Serbia:\n",
      "Beograd, Novi Sad, Niš\n",
      "* Montenegro:\n",
      "Podgorica\n",
      "* Kosovo:\n",
      "Prishtine\n",
      "* Andorra:\n",
      "Andorra la Vella\n"
     ]
    }
   ],
   "source": [
    "# print names of all countries and their cities\n",
    "for element in document_tree.iterfind('country'):\n",
    "    print('* ' + element.find('name').text + ':',)\n",
    "    capitals_string = ''\n",
    "    for subelement in element.getiterator('city'):\n",
    "        capitals_string += subelement.find('name').text + ', '\n",
    "    print(capitals_string[:-2])"
   ]
  },
  {
   "cell_type": "markdown",
   "metadata": {},
   "source": [
    "****\n",
    "## XML exercise\n",
    "\n",
    "Using data in 'data/mondial_database.xml', the examples above, and refering to https://docs.python.org/2.7/library/xml.etree.elementtree.html, find\n",
    "\n",
    "1. 10 countries with the lowest infant mortality rates\n",
    "2. 10 cities with the largest population\n",
    "3. 10 ethnic groups with the largest overall populations (sum of best/latest estimates over all countries)\n",
    "4. name and country of a) longest river, b) largest lake and c) airport at highest elevation"
   ]
  },
  {
   "cell_type": "code",
   "execution_count": 171,
   "metadata": {
    "collapsed": true
   },
   "outputs": [],
   "source": [
    "document = ET.parse( './data/mondial_database.xml' )"
   ]
  },
  {
   "cell_type": "code",
   "execution_count": 172,
   "metadata": {
    "collapsed": false
   },
   "outputs": [
    {
     "data": {
      "text/html": [
       "<div>\n",
       "<table border=\"1\" class=\"dataframe\">\n",
       "  <thead>\n",
       "    <tr style=\"text-align: right;\">\n",
       "      <th></th>\n",
       "      <th>country</th>\n",
       "      <th>infant_rates</th>\n",
       "    </tr>\n",
       "  </thead>\n",
       "  <tbody>\n",
       "    <tr>\n",
       "      <th>36</th>\n",
       "      <td>Monaco</td>\n",
       "      <td>1.81</td>\n",
       "    </tr>\n",
       "    <tr>\n",
       "      <th>90</th>\n",
       "      <td>Japan</td>\n",
       "      <td>2.13</td>\n",
       "    </tr>\n",
       "    <tr>\n",
       "      <th>109</th>\n",
       "      <td>Bermuda</td>\n",
       "      <td>2.48</td>\n",
       "    </tr>\n",
       "    <tr>\n",
       "      <th>34</th>\n",
       "      <td>Norway</td>\n",
       "      <td>2.48</td>\n",
       "    </tr>\n",
       "    <tr>\n",
       "      <th>98</th>\n",
       "      <td>Singapore</td>\n",
       "      <td>2.53</td>\n",
       "    </tr>\n",
       "    <tr>\n",
       "      <th>35</th>\n",
       "      <td>Sweden</td>\n",
       "      <td>2.60</td>\n",
       "    </tr>\n",
       "    <tr>\n",
       "      <th>8</th>\n",
       "      <td>Czech Republic</td>\n",
       "      <td>2.63</td>\n",
       "    </tr>\n",
       "    <tr>\n",
       "      <th>72</th>\n",
       "      <td>Hong Kong</td>\n",
       "      <td>2.73</td>\n",
       "    </tr>\n",
       "    <tr>\n",
       "      <th>73</th>\n",
       "      <td>Macao</td>\n",
       "      <td>3.13</td>\n",
       "    </tr>\n",
       "    <tr>\n",
       "      <th>39</th>\n",
       "      <td>Iceland</td>\n",
       "      <td>3.15</td>\n",
       "    </tr>\n",
       "  </tbody>\n",
       "</table>\n",
       "</div>"
      ],
      "text/plain": [
       "            country  infant_rates\n",
       "36           Monaco          1.81\n",
       "90            Japan          2.13\n",
       "109         Bermuda          2.48\n",
       "34           Norway          2.48\n",
       "98        Singapore          2.53\n",
       "35           Sweden          2.60\n",
       "8    Czech Republic          2.63\n",
       "72        Hong Kong          2.73\n",
       "73            Macao          3.13\n",
       "39          Iceland          3.15"
      ]
     },
     "execution_count": 172,
     "metadata": {},
     "output_type": "execute_result"
    }
   ],
   "source": [
    "#top 10 countries with the lowest infant mortality rate\n",
    "\n",
    "import pandas as pd\n",
    "countries = []\n",
    "infantrates = []\n",
    "\n",
    "def attribute_test(node, attribute_name, listname):\n",
    "    node_present = node.find(attribute_name)\n",
    "    \n",
    "    if(node_present is None):\n",
    "        return False\n",
    "    else:\n",
    "        listname.append(node.find(attribute_name).text)   \n",
    "        return True\n",
    "\n",
    "for country in document.findall('country'):\n",
    "    if(attribute_test(country, 'infant_mortality', infantrates)):\n",
    "        attribute_test(country, 'name', countries)\n",
    "\n",
    "infantrates_df = pd.DataFrame({ 'country' : countries,\n",
    "                               'infant_rates': infantrates })\n",
    "infantrates_df['infant_rates'] = infantrates_df['infant_rates'].astype(float)\n",
    "infantrates_df.sort_values(['infant_rates'], ascending=True).head(10)"
   ]
  },
  {
   "cell_type": "code",
   "execution_count": 173,
   "metadata": {
    "collapsed": false
   },
   "outputs": [
    {
     "data": {
      "text/html": [
       "<div>\n",
       "<table border=\"1\" class=\"dataframe\">\n",
       "  <thead>\n",
       "    <tr style=\"text-align: right;\">\n",
       "      <th></th>\n",
       "      <th>cityname</th>\n",
       "      <th>population</th>\n",
       "    </tr>\n",
       "  </thead>\n",
       "  <tbody>\n",
       "    <tr>\n",
       "      <th>1251</th>\n",
       "      <td>Shanghai</td>\n",
       "      <td>22315474</td>\n",
       "    </tr>\n",
       "    <tr>\n",
       "      <th>707</th>\n",
       "      <td>Istanbul</td>\n",
       "      <td>13710512</td>\n",
       "    </tr>\n",
       "    <tr>\n",
       "      <th>1421</th>\n",
       "      <td>Mumbai</td>\n",
       "      <td>12442373</td>\n",
       "    </tr>\n",
       "    <tr>\n",
       "      <th>443</th>\n",
       "      <td>Moskva</td>\n",
       "      <td>11979529</td>\n",
       "    </tr>\n",
       "    <tr>\n",
       "      <th>1250</th>\n",
       "      <td>Beijing</td>\n",
       "      <td>11716620</td>\n",
       "    </tr>\n",
       "    <tr>\n",
       "      <th>2594</th>\n",
       "      <td>São Paulo</td>\n",
       "      <td>11152344</td>\n",
       "    </tr>\n",
       "    <tr>\n",
       "      <th>1252</th>\n",
       "      <td>Tianjin</td>\n",
       "      <td>11090314</td>\n",
       "    </tr>\n",
       "    <tr>\n",
       "      <th>974</th>\n",
       "      <td>Guangzhou</td>\n",
       "      <td>11071424</td>\n",
       "    </tr>\n",
       "    <tr>\n",
       "      <th>1467</th>\n",
       "      <td>Delhi</td>\n",
       "      <td>11034555</td>\n",
       "    </tr>\n",
       "    <tr>\n",
       "      <th>977</th>\n",
       "      <td>Shenzhen</td>\n",
       "      <td>10358381</td>\n",
       "    </tr>\n",
       "  </tbody>\n",
       "</table>\n",
       "</div>"
      ],
      "text/plain": [
       "       cityname  population\n",
       "1251   Shanghai    22315474\n",
       "707    Istanbul    13710512\n",
       "1421     Mumbai    12442373\n",
       "443      Moskva    11979529\n",
       "1250    Beijing    11716620\n",
       "2594  São Paulo    11152344\n",
       "1252    Tianjin    11090314\n",
       "974   Guangzhou    11071424\n",
       "1467      Delhi    11034555\n",
       "977    Shenzhen    10358381"
      ]
     },
     "execution_count": 173,
     "metadata": {},
     "output_type": "execute_result"
    }
   ],
   "source": [
    "#top 10 cities with largest population\n",
    "\n",
    "cities = []\n",
    "city_populations = []\n",
    "\n",
    "for country in document.findall('country'):\n",
    "    for node in country.getiterator():\n",
    "        for city in node.findall('city'):\n",
    "            populus = []\n",
    "            for population in city.findall('population'):\n",
    "                populus.append(int(population.text))\n",
    "            if(len(populus) > 0):\n",
    "                city_populations.append(populus[len(populus)-1])\n",
    "                cities.append(city.find('name').text)\n",
    "            \n",
    "populations_df = pd.DataFrame({'cityname' : cities,\n",
    "                               'population' : city_populations })\n",
    "populations_df['population'] = populations_df['population'].astype(int)\n",
    "populations_df.sort_values(['population'],ascending=False).head(10)\n"
   ]
  },
  {
   "cell_type": "code",
   "execution_count": 174,
   "metadata": {
    "collapsed": false
   },
   "outputs": [
    {
     "data": {
      "text/html": [
       "<div>\n",
       "<table border=\"1\" class=\"dataframe\">\n",
       "  <thead>\n",
       "    <tr style=\"text-align: right;\">\n",
       "      <th></th>\n",
       "      <th>ethnicname</th>\n",
       "      <th>ethnicpopulus</th>\n",
       "    </tr>\n",
       "  </thead>\n",
       "  <tbody>\n",
       "    <tr>\n",
       "      <th>113</th>\n",
       "      <td>Han Chinese</td>\n",
       "      <td>1245058800</td>\n",
       "    </tr>\n",
       "    <tr>\n",
       "      <th>120</th>\n",
       "      <td>Indo-Aryan</td>\n",
       "      <td>871815583</td>\n",
       "    </tr>\n",
       "    <tr>\n",
       "      <th>89</th>\n",
       "      <td>European</td>\n",
       "      <td>494872201</td>\n",
       "    </tr>\n",
       "    <tr>\n",
       "      <th>2</th>\n",
       "      <td>African</td>\n",
       "      <td>318325104</td>\n",
       "    </tr>\n",
       "    <tr>\n",
       "      <th>77</th>\n",
       "      <td>Dravidian</td>\n",
       "      <td>302713744</td>\n",
       "    </tr>\n",
       "    <tr>\n",
       "      <th>176</th>\n",
       "      <td>Mestizo</td>\n",
       "      <td>157734349</td>\n",
       "    </tr>\n",
       "    <tr>\n",
       "      <th>42</th>\n",
       "      <td>Bengali</td>\n",
       "      <td>146776916</td>\n",
       "    </tr>\n",
       "    <tr>\n",
       "      <th>217</th>\n",
       "      <td>Russian</td>\n",
       "      <td>131856989</td>\n",
       "    </tr>\n",
       "    <tr>\n",
       "      <th>128</th>\n",
       "      <td>Japanese</td>\n",
       "      <td>126534212</td>\n",
       "    </tr>\n",
       "    <tr>\n",
       "      <th>163</th>\n",
       "      <td>Malay</td>\n",
       "      <td>121993548</td>\n",
       "    </tr>\n",
       "  </tbody>\n",
       "</table>\n",
       "</div>"
      ],
      "text/plain": [
       "      ethnicname  ethnicpopulus\n",
       "113  Han Chinese     1245058800\n",
       "120   Indo-Aryan      871815583\n",
       "89      European      494872201\n",
       "2        African      318325104\n",
       "77     Dravidian      302713744\n",
       "176      Mestizo      157734349\n",
       "42       Bengali      146776916\n",
       "217      Russian      131856989\n",
       "128     Japanese      126534212\n",
       "163        Malay      121993548"
      ]
     },
     "execution_count": 174,
     "metadata": {},
     "output_type": "execute_result"
    }
   ],
   "source": [
    "#10 ethnic groups with the largest overall populations\n",
    "\n",
    "ethnic_groups = {}\n",
    "\n",
    "for country in document.findall('country'):\n",
    "    for node in country.getiterator():\n",
    "        populus = []\n",
    "        for population in node.findall('population'):\n",
    "            populus.append(int(population.text))\n",
    "        if(len(populus) > 0):\n",
    "            for ethnicgroupnode in node.findall('ethnicgroup'):\n",
    "                ethnicpercent = float(ethnicgroupnode.attrib['percentage'])\n",
    "                ethnicgroup = (ethnicgroupnode.text)\n",
    "                ethnic_population = (float(populus[len(populus)-1])*float(ethnicpercent/100))\n",
    "                if(ethnicgroup not in ethnic_groups):\n",
    "                    ethnic_groups[ethnicgroup] = int(ethnic_population)\n",
    "                else:\n",
    "                    ethnic_groups[ethnicgroup] = ethnic_groups[ethnicgroup] + int(ethnic_population)\n",
    "\n",
    "#ethnic_groups\n",
    "\n",
    "#for generating sorted ethnicgroup/population\n",
    "sorted_ethnicgroupList = sorted(ethnic_groups)\n",
    "sorted_ethnicgroupPopulation = []\n",
    "\n",
    "for ethnic_name in sorted_ethnicgroupList:\n",
    "    sorted_ethnicgroupPopulation.append(ethnic_groups[ethnic_name])\n",
    "\n",
    "#dataframe for ethnicname and population\n",
    "ethnicgroup_df = pd.DataFrame({'ethnicname': sorted_ethnicgroupList,\n",
    "                             'ethnicpopulus': sorted_ethnicgroupPopulation})\n",
    "\n",
    "#output sorted ethnicname and populus\n",
    "ethnicgroup_df.sort_values('ethnicpopulus', ascending=False).head(10)"
   ]
  },
  {
   "cell_type": "code",
   "execution_count": 175,
   "metadata": {
    "collapsed": false,
    "scrolled": false
   },
   "outputs": [
    {
     "name": "stdout",
     "output_type": "stream",
     "text": [
      "Longest river:\n",
      "\tcountry/countries:  CO BR PE \n",
      "\triver name:  Amazonas \n",
      "\tLength:  6448.0\n",
      "\n",
      "Largest lake:\n",
      "\tcountry/countries:  R AZ KAZ IR TM \n",
      "\tlake name:  Caspian Sea \n",
      "\tLength:  386400.0\n",
      "\n",
      "Airport at highest elevation:\n",
      "\tcountry/countries:  BOL \n",
      "\tairport name:  El Alto Intl \n",
      "\tAirport elevation:  4063.0\n"
     ]
    }
   ],
   "source": [
    "#name and country of \n",
    "    #a) longest river, \n",
    "    #b) largest lake,\n",
    "    #c) airport at highest elevation\n",
    "\n",
    "#get country codes\n",
    "country_codes = {}\n",
    "\n",
    "for country in document.findall('country'):\n",
    "    country_codes[country.attrib['car_code']] = country.find('name').text\n",
    "        \n",
    "#a) longest river\n",
    "maxlength = -100.0\n",
    "riverdata = []\n",
    "\n",
    "for river in document.findall('river'):\n",
    "    countrycode = river.attrib['country']\n",
    "    river_name = river.find('name').text\n",
    "    lengthnode = river.find('length')\n",
    "    if(lengthnode is None):\n",
    "        length = 0.0\n",
    "    else:\n",
    "      length = float(lengthnode.text)\n",
    "    if(length > maxlength):\n",
    "        riverdata = []\n",
    "        riverdata.append(countrycode)\n",
    "        riverdata.append(river_name)\n",
    "        riverdata.append(length)\n",
    "        maxlength = length\n",
    "\n",
    "print(\"Longest river:\\n\\tcountry/countries: \", riverdata[0], \"\\n\\triver name: \", \n",
    "      riverdata[1], \"\\n\\tLength: \", riverdata[2])\n",
    "\n",
    "#b) largest lake\n",
    "maxarea = -100.0\n",
    "lakedata = []\n",
    "\n",
    "for lake in document.findall('lake'):\n",
    "    countrycode = lake.attrib['country']\n",
    "    lake_name = lake.find('name').text\n",
    "    areanode = lake.find('area')\n",
    "    if(areanode is None):\n",
    "        area = 0.0\n",
    "    else:\n",
    "      area = float(areanode.text)\n",
    "    if(area > maxarea):\n",
    "        lakedata = []\n",
    "        lakedata.append(countrycode)\n",
    "        lakedata.append(lake_name)\n",
    "        lakedata.append(area)\n",
    "        maxarea = area\n",
    "\n",
    "print(\"\\nLargest lake:\\n\\tcountry/countries: \", lakedata[0], \"\\n\\tlake name: \", \n",
    "      lakedata[1], \"\\n\\tLength: \", lakedata[2])\n",
    "\n",
    "#c) airport at highest altitude\n",
    "maxelevation = -100.0\n",
    "airportdata = []\n",
    "\n",
    "for airport in document.findall('airport'):\n",
    "    countrycode = airport.attrib['country']\n",
    "    airport_name = airport.find('name').text\n",
    "    elevationnode = airport.find('elevation')\n",
    "    if(elevationnode.text is None):\n",
    "        elevation = 0.0\n",
    "    else:\n",
    "        elevation = float(elevationnode.text)\n",
    "    if(elevation > maxelevation):\n",
    "        airportdata = []\n",
    "        airportdata.append(countrycode)\n",
    "        airportdata.append(airport_name)\n",
    "        airportdata.append(elevation)\n",
    "        maxelevation = elevation\n",
    "\n",
    "print(\"\\nAirport at highest elevation:\\n\\tcountry/countries: \", airportdata[0], \n",
    "      \"\\n\\tairport name: \", airportdata[1], \"\\n\\tAirport elevation: \", airportdata[2])"
   ]
  },
  {
   "cell_type": "code",
   "execution_count": null,
   "metadata": {
    "collapsed": true
   },
   "outputs": [],
   "source": []
  }
 ],
 "metadata": {
  "kernelspec": {
   "display_name": "Python 3",
   "language": "python",
   "name": "python3"
  },
  "language_info": {
   "codemirror_mode": {
    "name": "ipython",
    "version": 3
   },
   "file_extension": ".py",
   "mimetype": "text/x-python",
   "name": "python",
   "nbconvert_exporter": "python",
   "pygments_lexer": "ipython3",
   "version": "3.5.1"
  }
 },
 "nbformat": 4,
 "nbformat_minor": 0
}
