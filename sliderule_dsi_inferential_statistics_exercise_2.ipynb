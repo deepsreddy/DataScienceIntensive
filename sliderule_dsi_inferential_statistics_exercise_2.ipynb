{
 "cells": [
  {
   "cell_type": "markdown",
   "metadata": {},
   "source": [
    "\n",
    "### Examining racial discrimination in the US job market\n",
    "\n",
    "#### Background\n",
    "Racial discrimination continues to be pervasive in cultures throughout the world. Researchers examined the level of racial discrimination in the United States labor market by randomly assigning identical résumés black-sounding or white-sounding names and observing the impact on requests for interviews from employers.\n",
    "\n",
    "#### Data\n",
    "In the dataset provided, each row represents a resume. The 'race' column has two values, 'b' and 'w', indicating black-sounding and white-sounding. The column 'call' has two values, 1 and 0, indicating whether the resume received a call from employers or not.\n",
    "\n",
    "Note that the 'b' and 'w' values in race are assigned randomly to the resumes.\n",
    "\n",
    "#### Exercise\n",
    "You will perform a statistical analysis to establish whether race has a significant impact on the rate of callbacks for resumes.\n",
    "\n",
    "Answer the following questions **in this notebook below and submit to your Github account**. \n",
    "\n",
    "   1. What test is appropriate for this problem? Does CLT apply?\n",
    "   2. What are the null and alternate hypotheses?\n",
    "   3. Compute margin of error, confidence interval, and p-value.\n",
    "   4. Discuss statistical significance.\n",
    "\n",
    "You can include written notes in notebook cells using Markdown: \n",
    "   - In the control panel at the top, choose Cell > Cell Type > Markdown\n",
    "   - Markdown syntax: http://nestacms.com/docs/creating-content/markdown-cheat-sheet\n",
    "\n",
    "\n",
    "#### Resources\n",
    "+ Experiment information and data source: http://www.povertyactionlab.org/evaluation/discrimination-job-market-united-states\n",
    "+ Scipy statistical methods: http://docs.scipy.org/doc/scipy/reference/stats.html \n",
    "+ Markdown syntax: http://nestacms.com/docs/creating-content/markdown-cheat-sheet\n",
    "\n",
    "****"
   ]
  },
  {
   "cell_type": "code",
   "execution_count": 25,
   "metadata": {
    "collapsed": true
   },
   "outputs": [],
   "source": [
    "import pandas as pd\n",
    "import numpy as np\n",
    "from scipy import stats\n",
    "import math"
   ]
  },
  {
   "cell_type": "code",
   "execution_count": 31,
   "metadata": {
    "collapsed": false,
    "scrolled": true
   },
   "outputs": [],
   "source": [
    "data = pd.io.stata.read_stata('data/us_job_market_discrimination.dta')\n",
    "#data.head()"
   ]
  },
  {
   "cell_type": "code",
   "execution_count": 3,
   "metadata": {
    "collapsed": false
   },
   "outputs": [
    {
     "data": {
      "text/plain": [
       "157.0"
      ]
     },
     "execution_count": 3,
     "metadata": {},
     "output_type": "execute_result"
    }
   ],
   "source": [
    "# number of callbacks for balck-sounding names\n",
    "sum(data[data.race=='b'].call)"
   ]
  },
  {
   "cell_type": "code",
   "execution_count": 5,
   "metadata": {
    "collapsed": false
   },
   "outputs": [
    {
     "data": {
      "text/plain": [
       "235.0"
      ]
     },
     "execution_count": 5,
     "metadata": {},
     "output_type": "execute_result"
    }
   ],
   "source": [
    "# number of callbacks for white-sounding names\n",
    "sum(data[data.race=='w'].call)"
   ]
  },
  {
   "cell_type": "markdown",
   "metadata": {},
   "source": [
    "&nbsp; &nbsp; 1. We can apply Chi-Square distribution (chi-square test) to this data to find out if race has a signigicant impact on call back. CLT applies to Chi-square distributions at large N (i.e., when N-->inf).\n",
    "\n",
    "\n",
    "&nbsp; &nbsp; 2. The null and alternate hypotheses are:\n",
    "    \n",
    "    Ho (null hypothesis): There is no statistically significant impact of race on callbacks.\n",
    "    \n",
    "    Ha (alternate hypothesis): There is statistically significant impact of race on callbacks.\n",
    "    "
   ]
  },
  {
   "cell_type": "markdown",
   "metadata": {},
   "source": [
    "&nbsp; &nbsp; 3.  The 2x2 contingency table for the chi-square test is as follows:\n",
    "\n",
    "                          Callbacks      No_Callbacks      Total\n",
    "    white-sounding:         235            2200            2435\n",
    "    black-sounding:         157            2278            2435\n",
    "    Total:                  392            4478            4870\n",
    "    \n",
    "The chi-square value is 16.9 and for df=1, the p-value < 0.001 which means that we cannot reject null hypothesis. This means that there is statistically significant impact of race of callbacks.\n",
    " \n",
    "The Standard Error for the sample comes to 0.008 and the confidence intervals at 95% are in the range of -0.05 to -0.017.\n",
    "\n",
    "The Margin of Error is 0.016.\n",
    "\n",
    "\n",
    "&nbsp; &nbsp; 4. Here the difference is statistically significant since p-value < 0.001."
   ]
  },
  {
   "cell_type": "code",
   "execution_count": 28,
   "metadata": {
    "collapsed": false
   },
   "outputs": [
    {
     "name": "stdout",
     "output_type": "stream",
     "text": [
      "number of white-sounding with no calls=  2200\n",
      "number of black-sounding with no calls=  2278\n",
      "chi-square value=  16.879050414270218\n",
      "Standard Error=  0.007783370586676755\n",
      "margin of error=  0.01525540634988644\n",
      "lower confidence interval=  -0.04728826055933212\n",
      "upper confidence interval=  -0.016777447859559244\n"
     ]
    }
   ],
   "source": [
    "# number of no callbacks for white-sounding names\n",
    "white_df = data[data['race'] == 'w']\n",
    "white_nocalls = len(white_df) - 235\n",
    "print('number of white-sounding with no calls= ', white_nocalls)\n",
    "\n",
    "black_df = data[data['race'] == 'b']\n",
    "black_nocalls = len(black_df) - 157\n",
    "print('number of black-sounding with no calls= ', black_nocalls)\n",
    "\n",
    "chisquare = (4870*(235*2278-157*2200)*(235*2278-157*2200))/(392*4478*2435*2435)\n",
    "print('chi-square value= ', chisquare)\n",
    "\n",
    "p1 = 2200/2435\n",
    "p2 = 2278/2435\n",
    "\n",
    "n1 = n2 = 2435\n",
    "#SE(p1-p2) = sqrt(((p1*(1-p1))/n1)+((p2*(1-p2))/n2))\n",
    "SE = math.sqrt(((p1*(1-p1))/n1)+((p2*(1-p2))/n2))\n",
    "print('Standard Error= ', SE)\n",
    "\n",
    "#Margin of error = SE*critical value\n",
    "ME = SE*1.96\n",
    "print('margin of error= ', ME)\n",
    "\n",
    "#95% confidence interval\n",
    "\n",
    "lowerCI = (p1-p2)-(1.96*SE)\n",
    "upperCI = (p1-p2)+(1.96*SE)\n",
    "\n",
    "print('lower confidence interval= ', lowerCI)\n",
    "print('upper confidence interval= ', upperCI)"
   ]
  },
  {
   "cell_type": "code",
   "execution_count": null,
   "metadata": {
    "collapsed": true
   },
   "outputs": [],
   "source": []
  },
  {
   "cell_type": "markdown",
   "metadata": {},
   "source": []
  }
 ],
 "metadata": {
  "kernelspec": {
   "display_name": "Python 3",
   "language": "python",
   "name": "python3"
  },
  "language_info": {
   "codemirror_mode": {
    "name": "ipython",
    "version": 3
   },
   "file_extension": ".py",
   "mimetype": "text/x-python",
   "name": "python",
   "nbconvert_exporter": "python",
   "pygments_lexer": "ipython3",
   "version": "3.5.1"
  }
 },
 "nbformat": 4,
 "nbformat_minor": 0
}
