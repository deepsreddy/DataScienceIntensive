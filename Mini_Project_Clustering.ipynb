{
 "cells": [
  {
   "cell_type": "markdown",
   "metadata": {},
   "source": [
    "# Customer Segmentation using Clustering\n",
    "***\n",
    "This mini-project is based on [this blog post]() by yhat. Please feel free to refer to the post for additional information, and solutions."
   ]
  },
  {
   "cell_type": "code",
   "execution_count": 41,
   "metadata": {
    "collapsed": false
   },
   "outputs": [],
   "source": [
    "import pandas as pd\n",
    "import seaborn as sns\n",
    "import numpy as np\n",
    "import scipy as sp"
   ]
  },
  {
   "cell_type": "code",
   "execution_count": 2,
   "metadata": {
    "collapsed": false
   },
   "outputs": [
    {
     "name": "stdout",
     "output_type": "stream",
     "text": [
      "Populating the interactive namespace from numpy and matplotlib\n"
     ]
    }
   ],
   "source": [
    "%pylab inline"
   ]
  },
  {
   "cell_type": "markdown",
   "metadata": {},
   "source": [
    "## Data\n",
    "\n",
    "The dataset contains both information on marketing newsletters/e-mail campaigns (e-mail offers sent) and transaction level data from customers (which offer customers responded to and what they bought)."
   ]
  },
  {
   "cell_type": "code",
   "execution_count": 11,
   "metadata": {
    "collapsed": false
   },
   "outputs": [
    {
     "name": "stdout",
     "output_type": "stream",
     "text": [
      "   offer_id  campaign            varietal  min_qty  discount       origin  \\\n",
      "0         1   January              Malbec       72        56       France   \n",
      "1         2   January          Pinot Noir       72        17       France   \n",
      "2         3  February           Espumante      144        32       Oregon   \n",
      "3         4  February           Champagne       72        48       France   \n",
      "4         5  February  Cabernet Sauvignon      144        44  New Zealand   \n",
      "\n",
      "  past_peak  \n",
      "0     False  \n",
      "1     False  \n",
      "2      True  \n",
      "3      True  \n",
      "4      True  \n",
      "32\n"
     ]
    }
   ],
   "source": [
    "df_offers = pd.read_excel(\"./WineKMC.xlsx\", sheetname=0)\n",
    "df_offers.columns = [\"offer_id\", \"campaign\", \"varietal\", \"min_qty\", \"discount\", \"origin\", \"past_peak\"]\n",
    "print(df_offers.head())\n",
    "print(len(df_offers))"
   ]
  },
  {
   "cell_type": "code",
   "execution_count": 84,
   "metadata": {
    "collapsed": false
   },
   "outputs": [
    {
     "name": "stdout",
     "output_type": "stream",
     "text": [
      "  customer_name  offer_id  n\n",
      "0         Smith         2  1\n",
      "1         Smith        24  1\n",
      "2       Johnson        17  1\n",
      "3       Johnson        24  1\n",
      "4       Johnson        26  1\n"
     ]
    }
   ],
   "source": [
    "df_transactions = pd.read_excel(\"./WineKMC.xlsx\", sheetname=1)\n",
    "df_transactions.columns = [\"customer_name\", \"offer_id\"]\n",
    "df_transactions['n'] = 1\n",
    "print((df_transactions.head()))"
   ]
  },
  {
   "cell_type": "markdown",
   "metadata": {},
   "source": [
    "## Data wrangling"
   ]
  },
  {
   "cell_type": "markdown",
   "metadata": {},
   "source": [
    "We're trying to learn more about how our customers behave, so we can use their behavior (whether or not they purchased something based on an offer) as a way to group similar minded customers together. We can then study those groups to look for patterns and trends which can help us formulate future offers.\n",
    "\n",
    "The first thing we need is a way to compare customers. To do this, we're going to create a matrix that contains each customer and a 0/1 indicator for whether or not they responded to a given offer. \n",
    "\n",
    "**Your turn:** Create a data frame where each row has the following columns (Use the pandas [`merge`](http://pandas.pydata.org/pandas-docs/stable/generated/pandas.DataFrame.merge.html) and [`pivot_table`](http://pandas.pydata.org/pandas-docs/stable/generated/pandas.pivot_table.html) functions for this purpose):\n",
    "\n",
    "* customer_name\n",
    "* One column for each offer, with a 1 if the customer responded to the offer"
   ]
  },
  {
   "cell_type": "code",
   "execution_count": 126,
   "metadata": {
    "collapsed": false
   },
   "outputs": [
    {
     "name": "stderr",
     "output_type": "stream",
     "text": [
      "/home/roopireddy/anaconda3/lib/python3.5/site-packages/ipykernel/__main__.py:24: SettingWithCopyWarning: \n",
      "A value is trying to be set on a copy of a slice from a DataFrame\n",
      "\n",
      "See the caveats in the documentation: http://pandas.pydata.org/pandas-docs/stable/indexing.html#indexing-view-versus-copy\n"
     ]
    },
    {
     "data": {
      "text/html": [
       "<div>\n",
       "<table border=\"1\" class=\"dataframe\">\n",
       "  <thead>\n",
       "    <tr style=\"text-align: right;\">\n",
       "      <th></th>\n",
       "      <th>customer_name</th>\n",
       "      <th>offerid1</th>\n",
       "      <th>offerid10</th>\n",
       "      <th>offerid11</th>\n",
       "      <th>offerid12</th>\n",
       "      <th>offerid13</th>\n",
       "      <th>offerid14</th>\n",
       "      <th>offerid15</th>\n",
       "      <th>offerid16</th>\n",
       "      <th>offerid17</th>\n",
       "      <th>...</th>\n",
       "      <th>offerid3</th>\n",
       "      <th>offerid30</th>\n",
       "      <th>offerid31</th>\n",
       "      <th>offerid32</th>\n",
       "      <th>offerid4</th>\n",
       "      <th>offerid5</th>\n",
       "      <th>offerid6</th>\n",
       "      <th>offerid7</th>\n",
       "      <th>offerid8</th>\n",
       "      <th>offerid9</th>\n",
       "    </tr>\n",
       "  </thead>\n",
       "  <tbody>\n",
       "    <tr>\n",
       "      <th>0</th>\n",
       "      <td>Adams</td>\n",
       "      <td>0.0</td>\n",
       "      <td>0.0</td>\n",
       "      <td>0.0</td>\n",
       "      <td>0.0</td>\n",
       "      <td>0.0</td>\n",
       "      <td>0.0</td>\n",
       "      <td>0.0</td>\n",
       "      <td>0.0</td>\n",
       "      <td>0.0</td>\n",
       "      <td>...</td>\n",
       "      <td>0.0</td>\n",
       "      <td>1.0</td>\n",
       "      <td>0.0</td>\n",
       "      <td>0.0</td>\n",
       "      <td>0.0</td>\n",
       "      <td>0.0</td>\n",
       "      <td>0.0</td>\n",
       "      <td>0.0</td>\n",
       "      <td>0.0</td>\n",
       "      <td>0.0</td>\n",
       "    </tr>\n",
       "    <tr>\n",
       "      <th>1</th>\n",
       "      <td>Allen</td>\n",
       "      <td>0.0</td>\n",
       "      <td>0.0</td>\n",
       "      <td>0.0</td>\n",
       "      <td>0.0</td>\n",
       "      <td>0.0</td>\n",
       "      <td>0.0</td>\n",
       "      <td>0.0</td>\n",
       "      <td>0.0</td>\n",
       "      <td>0.0</td>\n",
       "      <td>...</td>\n",
       "      <td>0.0</td>\n",
       "      <td>0.0</td>\n",
       "      <td>0.0</td>\n",
       "      <td>0.0</td>\n",
       "      <td>0.0</td>\n",
       "      <td>0.0</td>\n",
       "      <td>0.0</td>\n",
       "      <td>0.0</td>\n",
       "      <td>0.0</td>\n",
       "      <td>1.0</td>\n",
       "    </tr>\n",
       "    <tr>\n",
       "      <th>2</th>\n",
       "      <td>Anderson</td>\n",
       "      <td>0.0</td>\n",
       "      <td>0.0</td>\n",
       "      <td>0.0</td>\n",
       "      <td>0.0</td>\n",
       "      <td>0.0</td>\n",
       "      <td>0.0</td>\n",
       "      <td>0.0</td>\n",
       "      <td>0.0</td>\n",
       "      <td>0.0</td>\n",
       "      <td>...</td>\n",
       "      <td>0.0</td>\n",
       "      <td>0.0</td>\n",
       "      <td>0.0</td>\n",
       "      <td>0.0</td>\n",
       "      <td>0.0</td>\n",
       "      <td>0.0</td>\n",
       "      <td>0.0</td>\n",
       "      <td>0.0</td>\n",
       "      <td>0.0</td>\n",
       "      <td>0.0</td>\n",
       "    </tr>\n",
       "    <tr>\n",
       "      <th>3</th>\n",
       "      <td>Bailey</td>\n",
       "      <td>0.0</td>\n",
       "      <td>0.0</td>\n",
       "      <td>0.0</td>\n",
       "      <td>0.0</td>\n",
       "      <td>0.0</td>\n",
       "      <td>0.0</td>\n",
       "      <td>0.0</td>\n",
       "      <td>0.0</td>\n",
       "      <td>0.0</td>\n",
       "      <td>...</td>\n",
       "      <td>0.0</td>\n",
       "      <td>1.0</td>\n",
       "      <td>0.0</td>\n",
       "      <td>0.0</td>\n",
       "      <td>0.0</td>\n",
       "      <td>0.0</td>\n",
       "      <td>0.0</td>\n",
       "      <td>1.0</td>\n",
       "      <td>0.0</td>\n",
       "      <td>0.0</td>\n",
       "    </tr>\n",
       "    <tr>\n",
       "      <th>4</th>\n",
       "      <td>Baker</td>\n",
       "      <td>0.0</td>\n",
       "      <td>1.0</td>\n",
       "      <td>0.0</td>\n",
       "      <td>0.0</td>\n",
       "      <td>0.0</td>\n",
       "      <td>0.0</td>\n",
       "      <td>0.0</td>\n",
       "      <td>0.0</td>\n",
       "      <td>0.0</td>\n",
       "      <td>...</td>\n",
       "      <td>0.0</td>\n",
       "      <td>0.0</td>\n",
       "      <td>1.0</td>\n",
       "      <td>0.0</td>\n",
       "      <td>0.0</td>\n",
       "      <td>0.0</td>\n",
       "      <td>0.0</td>\n",
       "      <td>1.0</td>\n",
       "      <td>0.0</td>\n",
       "      <td>0.0</td>\n",
       "    </tr>\n",
       "  </tbody>\n",
       "</table>\n",
       "<p>5 rows × 33 columns</p>\n",
       "</div>"
      ],
      "text/plain": [
       "  customer_name  offerid1  offerid10  offerid11  offerid12  offerid13  \\\n",
       "0         Adams       0.0        0.0        0.0        0.0        0.0   \n",
       "1         Allen       0.0        0.0        0.0        0.0        0.0   \n",
       "2      Anderson       0.0        0.0        0.0        0.0        0.0   \n",
       "3        Bailey       0.0        0.0        0.0        0.0        0.0   \n",
       "4         Baker       0.0        1.0        0.0        0.0        0.0   \n",
       "\n",
       "   offerid14  offerid15  offerid16  offerid17    ...     offerid3  offerid30  \\\n",
       "0        0.0        0.0        0.0        0.0    ...          0.0        1.0   \n",
       "1        0.0        0.0        0.0        0.0    ...          0.0        0.0   \n",
       "2        0.0        0.0        0.0        0.0    ...          0.0        0.0   \n",
       "3        0.0        0.0        0.0        0.0    ...          0.0        1.0   \n",
       "4        0.0        0.0        0.0        0.0    ...          0.0        0.0   \n",
       "\n",
       "   offerid31  offerid32  offerid4  offerid5  offerid6  offerid7  offerid8  \\\n",
       "0        0.0        0.0       0.0       0.0       0.0       0.0       0.0   \n",
       "1        0.0        0.0       0.0       0.0       0.0       0.0       0.0   \n",
       "2        0.0        0.0       0.0       0.0       0.0       0.0       0.0   \n",
       "3        0.0        0.0       0.0       0.0       0.0       1.0       0.0   \n",
       "4        1.0        0.0       0.0       0.0       0.0       1.0       0.0   \n",
       "\n",
       "   offerid9  \n",
       "0       0.0  \n",
       "1       1.0  \n",
       "2       0.0  \n",
       "3       0.0  \n",
       "4       0.0  \n",
       "\n",
       "[5 rows x 33 columns]"
      ]
     },
     "execution_count": 126,
     "metadata": {},
     "output_type": "execute_result"
    }
   ],
   "source": [
    "#your turn\n",
    "\n",
    "all_cust_names = df_transactions['customer_name']\n",
    "cust_names = unique(all_cust_names)\n",
    "length = len(cust_names)\n",
    "offerids_names = []\n",
    "i = 1\n",
    "for i in range(1,33):\n",
    "    name = 'offerid'+str(i)\n",
    "    offerids_names.append(name)\n",
    "    \n",
    "offer_lists = np.zeros(shape=(100,32), dtype=int64)\n",
    "names_df = pd.DataFrame(cust_names, columns=['customer_name'])\n",
    "offers_df = pd.DataFrame(offer_lists, columns=offerids_names)\n",
    "\n",
    "clustering_input_df = names_df.append(offers_df)\n",
    "clustering_input_df = clustering_input_df.fillna(0)\n",
    "\n",
    "for index, trans in df_transactions.iterrows():\n",
    "    cust_name = trans['customer_name']\n",
    "    offerid = trans['offer_id']\n",
    "    idx = clustering_input_df[clustering_input_df['customer_name'] == cust_name].index.tolist()\n",
    "    offer_columnname = 'offerid'+str(offerid)\n",
    "    clustering_input_df[offer_columnname][idx[0]] = int(1)\n",
    "    offer_lists[idx[0]][offerid-1] = 1\n",
    "    \n",
    "clustering_input_df.head()"
   ]
  },
  {
   "cell_type": "markdown",
   "metadata": {},
   "source": [
    "## K-Means Clustering\n",
    "\n",
    "**Your turn:** \n",
    "\n",
    "* Create a numpy matrix `x_cols` with only the columns representing the offers (i.e. the 0/1 colums) \n",
    "* Apply the [`KMeans`](http://scikit-learn.org/stable/modules/generated/sklearn.cluster.KMeans.html) clustering method from scikit-learn to this matrix. Use `n_clusters=5` (but feel free to play with this)\n",
    "* Print the number of points in each cluster "
   ]
  },
  {
   "cell_type": "code",
   "execution_count": 169,
   "metadata": {
    "collapsed": false
   },
   "outputs": [
    {
     "name": "stdout",
     "output_type": "stream",
     "text": [
      "           customer_name\n",
      "clusterid               \n",
      "1                     16\n",
      "2                     10\n",
      "3                     35\n",
      "4                     25\n",
      "5                     14\n"
     ]
    }
   ],
   "source": [
    "#your turn\n",
    "from sklearn.cluster import KMeans\n",
    "\n",
    "cluster_predict = KMeans(n_clusters=5).fit_predict(offer_lists)\n",
    "#print(cluster_predict)\n",
    "\n",
    "cluster_df = pd.DataFrame({'customer_name': cust_names, 'clusterid': (cluster_predict+1)})\n",
    "test = cluster_df.groupby('clusterid').count()\n",
    "print(test)"
   ]
  },
  {
   "cell_type": "markdown",
   "metadata": {},
   "source": [
    "## Visualizing clusters using PCA\n",
    "\n",
    "How do we visualize clusters? Principal Component Analysis (PCA) will help. There are lots of uses for PCA, but today we're going to use it to transform our multi-dimensional dataset into a 2 dimensional dataset. Why you ask? Well once it is in 2 dimensions (or simply put, it has 2 columns), it becomes much easier to plot!\n",
    "\n",
    "**Your turn:** Use PCA to plot your clusters:\n",
    "\n",
    "* Use scikit-learn's [`PCA`](http://scikit-learn.org/stable/modules/generated/sklearn.decomposition.PCA.html) function to reduce the dimensionality of your clustering data to 2 components\n",
    "* Create a data frame with the following fields:\n",
    "  * customer name\n",
    "  * cluster id the customer belongs to\n",
    "  * the two PCA components (label them `x` and `y`)"
   ]
  },
  {
   "cell_type": "code",
   "execution_count": 170,
   "metadata": {
    "collapsed": false
   },
   "outputs": [
    {
     "data": {
      "text/html": [
       "<div>\n",
       "<table border=\"1\" class=\"dataframe\">\n",
       "  <thead>\n",
       "    <tr style=\"text-align: right;\">\n",
       "      <th></th>\n",
       "      <th>clusterid</th>\n",
       "      <th>customer_name</th>\n",
       "      <th>x</th>\n",
       "      <th>y</th>\n",
       "    </tr>\n",
       "  </thead>\n",
       "  <tbody>\n",
       "    <tr>\n",
       "      <th>0</th>\n",
       "      <td>4</td>\n",
       "      <td>Adams</td>\n",
       "      <td>-1.007580</td>\n",
       "      <td>0.108215</td>\n",
       "    </tr>\n",
       "    <tr>\n",
       "      <th>1</th>\n",
       "      <td>3</td>\n",
       "      <td>Allen</td>\n",
       "      <td>0.287539</td>\n",
       "      <td>0.044715</td>\n",
       "    </tr>\n",
       "    <tr>\n",
       "      <th>2</th>\n",
       "      <td>1</td>\n",
       "      <td>Anderson</td>\n",
       "      <td>0.392032</td>\n",
       "      <td>1.038391</td>\n",
       "    </tr>\n",
       "    <tr>\n",
       "      <th>3</th>\n",
       "      <td>4</td>\n",
       "      <td>Bailey</td>\n",
       "      <td>-0.699477</td>\n",
       "      <td>-0.022542</td>\n",
       "    </tr>\n",
       "    <tr>\n",
       "      <th>4</th>\n",
       "      <td>5</td>\n",
       "      <td>Baker</td>\n",
       "      <td>-0.088183</td>\n",
       "      <td>-0.471695</td>\n",
       "    </tr>\n",
       "    <tr>\n",
       "      <th>5</th>\n",
       "      <td>5</td>\n",
       "      <td>Barnes</td>\n",
       "      <td>0.485282</td>\n",
       "      <td>-0.725503</td>\n",
       "    </tr>\n",
       "    <tr>\n",
       "      <th>6</th>\n",
       "      <td>1</td>\n",
       "      <td>Bell</td>\n",
       "      <td>0.591941</td>\n",
       "      <td>1.506500</td>\n",
       "    </tr>\n",
       "    <tr>\n",
       "      <th>7</th>\n",
       "      <td>4</td>\n",
       "      <td>Bennett</td>\n",
       "      <td>-0.661732</td>\n",
       "      <td>0.090308</td>\n",
       "    </tr>\n",
       "    <tr>\n",
       "      <th>8</th>\n",
       "      <td>3</td>\n",
       "      <td>Brooks</td>\n",
       "      <td>0.118943</td>\n",
       "      <td>-0.577499</td>\n",
       "    </tr>\n",
       "    <tr>\n",
       "      <th>9</th>\n",
       "      <td>4</td>\n",
       "      <td>Brown</td>\n",
       "      <td>-1.079827</td>\n",
       "      <td>-0.007488</td>\n",
       "    </tr>\n",
       "  </tbody>\n",
       "</table>\n",
       "</div>"
      ],
      "text/plain": [
       "   clusterid customer_name         x         y\n",
       "0          4         Adams -1.007580  0.108215\n",
       "1          3         Allen  0.287539  0.044715\n",
       "2          1      Anderson  0.392032  1.038391\n",
       "3          4        Bailey -0.699477 -0.022542\n",
       "4          5         Baker -0.088183 -0.471695\n",
       "5          5        Barnes  0.485282 -0.725503\n",
       "6          1          Bell  0.591941  1.506500\n",
       "7          4       Bennett -0.661732  0.090308\n",
       "8          3        Brooks  0.118943 -0.577499\n",
       "9          4         Brown -1.079827 -0.007488"
      ]
     },
     "execution_count": 170,
     "metadata": {},
     "output_type": "execute_result"
    }
   ],
   "source": [
    "#your turn\n",
    "\n",
    "from sklearn.decomposition import PCA\n",
    "pca = PCA(n_components=2)\n",
    "pca_components = pca.fit_transform(offer_lists)\n",
    "\n",
    "pre_pca_df = pd.DataFrame(pca_components, columns=['x', 'y'])\n",
    "pre_pca_df.head()\n",
    "\n",
    "cluster_df['x'] = pre_pca_df['x']\n",
    "cluster_df['y'] = pre_pca_df['y']\n",
    "\n",
    "cluster_df.head(10)"
   ]
  },
  {
   "cell_type": "markdown",
   "metadata": {},
   "source": [
    "What we've done is we've taken those columns of 0/1 indicator variables, and we've transformed them into a 2-D dataset. We took one column and arbitrarily called it `x` and then called the other `y`. Now we can throw each point into a scatterplot. We'll color code each point based on it's cluster so it's easier to see them.\n",
    "\n",
    "**Your turn:**\n",
    "\n",
    "* Plot a scatterplot of the `x` vs `y` columns\n",
    "* Color-code points differently based on cluster ID\n",
    "\n",
    "How do the clusters look?"
   ]
  },
  {
   "cell_type": "code",
   "execution_count": 178,
   "metadata": {
    "collapsed": false
   },
   "outputs": [
    {
     "data": {
      "image/png": "[encoded data removed]",
      "text/plain": [
       "<matplotlib.figure.Figure at 0x7f9e29bba470>"
      ]
     },
     "metadata": {},
     "output_type": "display_data"
    }
   ],
   "source": [
    "#your turn\n",
    "\n",
    "import matplotlib as mpl\n",
    "import matplotlib.cm as cm\n",
    "import matplotlib.pyplot as plt\n",
    "\n",
    "colorindex = ['r', 'g', 'b', 'y', 'k']\n",
    "colors = []\n",
    "for i in range(0,len(cluster_predict)):\n",
    "    colors.append(colorindex[cluster_predict[i]])\n",
    "\n",
    "plt.figure(figsize=(10,8))\n",
    "plt.scatter(cluster_df['x'], cluster_df['y'], color=colors, s=40, alpha=0.5)\n",
    "#plt.scatter(cluster_df['x'], cluster_df['y'], )\n",
    "plt.xlabel('pca \\'x\\' component')\n",
    "plt.ylabel('pca \\'y\\' component')\n",
    "plt.show()"
   ]
  },
  {
   "cell_type": "markdown",
   "metadata": {},
   "source": [
    "**Your turn (extra credit):** Play with the following: \n",
    "\n",
    "* Different initializations for `KMeans`\n",
    "* Other clustering algorithms in scikit-learn"
   ]
  },
  {
   "cell_type": "code",
   "execution_count": null,
   "metadata": {
    "collapsed": true
   },
   "outputs": [],
   "source": []
  }
 ],
 "metadata": {
  "kernelspec": {
   "display_name": "Python 3",
   "language": "python",
   "name": "python3"
  },
  "language_info": {
   "codemirror_mode": {
    "name": "ipython",
    "version": 3
   },
   "file_extension": ".py",
   "mimetype": "text/x-python",
   "name": "python",
   "nbconvert_exporter": "python",
   "pygments_lexer": "ipython3",
   "version": "3.5.1"
  }
 },
 "nbformat": 4,
 "nbformat_minor": 0
}
